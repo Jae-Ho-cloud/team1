{
 "cells": [
  {
   "cell_type": "code",
   "execution_count": 52,
   "metadata": {},
   "outputs": [
    {
     "name": "stdout",
     "output_type": "stream",
     "text": [
      "pandas: pd 2.2.2\n",
      "numpy: np 2.0.1\n",
      "scipy: sp 1.14.0\n",
      "statsmodels: 0.14.2\n",
      "matplotlib: mpl 3.9.1\n",
      "seaborn: sns 0.13.2\n",
      "geopandas: gpd 1.0.1\n",
      "folium: 0.17.0\n",
      "requests: 2.32.3\n"
     ]
    }
   ],
   "source": [
    "%run nb_init.py"
   ]
  },
  {
   "cell_type": "code",
   "execution_count": 13,
   "metadata": {},
   "outputs": [
    {
     "name": "stdout",
     "output_type": "stream",
     "text": [
      "{'encoding': 'EUC-KR', 'confidence': 0.99, 'language': 'Korean'}\n"
     ]
    }
   ],
   "source": [
    "\"\"\"\n",
    "import chardet\n",
    "with open(\"시도별_온실가스_중립도 (2015_2020년).csv\", mode = 'rb') as f:\n",
    "    d = f.readline()\n",
    "\n",
    "print(chardet.detect(d))\n",
    "\"\"\""
   ]
  },
  {
   "cell_type": "code",
   "execution_count": 40,
   "metadata": {},
   "outputs": [
    {
     "data": {
      "text/html": [
       "<div>\n",
       "<style scoped>\n",
       "    .dataframe tbody tr th:only-of-type {\n",
       "        vertical-align: middle;\n",
       "    }\n",
       "\n",
       "    .dataframe tbody tr th {\n",
       "        vertical-align: top;\n",
       "    }\n",
       "\n",
       "    .dataframe thead th {\n",
       "        text-align: right;\n",
       "    }\n",
       "</style>\n",
       "<table border=\"1\" class=\"dataframe\">\n",
       "  <thead>\n",
       "    <tr style=\"text-align: right;\">\n",
       "      <th></th>\n",
       "      <th>시도명</th>\n",
       "      <th>년도</th>\n",
       "      <th>온실가스배출량</th>\n",
       "      <th>온실가스흡수량</th>\n",
       "      <th>온실가스중립도</th>\n",
       "    </tr>\n",
       "  </thead>\n",
       "  <tbody>\n",
       "    <tr>\n",
       "      <th>0</th>\n",
       "      <td>강원도</td>\n",
       "      <td>2015</td>\n",
       "      <td>37278744</td>\n",
       "      <td>13037931</td>\n",
       "      <td>35</td>\n",
       "    </tr>\n",
       "    <tr>\n",
       "      <th>1</th>\n",
       "      <td>강원도</td>\n",
       "      <td>2016</td>\n",
       "      <td>38363320</td>\n",
       "      <td>13038312</td>\n",
       "      <td>34</td>\n",
       "    </tr>\n",
       "    <tr>\n",
       "      <th>2</th>\n",
       "      <td>강원도</td>\n",
       "      <td>2017</td>\n",
       "      <td>45091192</td>\n",
       "      <td>13035199</td>\n",
       "      <td>29</td>\n",
       "    </tr>\n",
       "    <tr>\n",
       "      <th>3</th>\n",
       "      <td>강원도</td>\n",
       "      <td>2018</td>\n",
       "      <td>50173656</td>\n",
       "      <td>13028515</td>\n",
       "      <td>26</td>\n",
       "    </tr>\n",
       "    <tr>\n",
       "      <th>4</th>\n",
       "      <td>강원도</td>\n",
       "      <td>2019</td>\n",
       "      <td>49424508</td>\n",
       "      <td>13025874</td>\n",
       "      <td>26</td>\n",
       "    </tr>\n",
       "  </tbody>\n",
       "</table>\n",
       "</div>"
      ],
      "text/plain": [
       "   시도명    년도   온실가스배출량  온실가스흡수량  온실가스중립도\n",
       "0  강원도  2015  37278744 13037931       35\n",
       "1  강원도  2016  38363320 13038312       34\n",
       "2  강원도  2017  45091192 13035199       29\n",
       "3  강원도  2018  50173656 13028515       26\n",
       "4  강원도  2019  49424508 13025874       26"
      ]
     },
     "execution_count": 40,
     "metadata": {},
     "output_type": "execute_result"
    }
   ],
   "source": [
    "df = pd.read_csv('시도별_온실가스_중립도 (2015_2020년).csv', low_memory=False)\n",
    "\n",
    "df.head()"
   ]
  },
  {
   "cell_type": "code",
   "execution_count": 50,
   "metadata": {},
   "outputs": [
    {
     "data": {
      "text/html": [
       "<div>\n",
       "<style scoped>\n",
       "    .dataframe tbody tr th:only-of-type {\n",
       "        vertical-align: middle;\n",
       "    }\n",
       "\n",
       "    .dataframe tbody tr th {\n",
       "        vertical-align: top;\n",
       "    }\n",
       "\n",
       "    .dataframe thead th {\n",
       "        text-align: right;\n",
       "    }\n",
       "</style>\n",
       "<table border=\"1\" class=\"dataframe\">\n",
       "  <thead>\n",
       "    <tr style=\"text-align: right;\">\n",
       "      <th></th>\n",
       "      <th>년도</th>\n",
       "      <th>온실가스배출량</th>\n",
       "      <th>온실가스흡수량</th>\n",
       "      <th>온실가스중립도</th>\n",
       "    </tr>\n",
       "  </thead>\n",
       "  <tbody>\n",
       "    <tr>\n",
       "      <th>count</th>\n",
       "      <td>102.000000</td>\n",
       "      <td>1.020000e+02</td>\n",
       "      <td>1.020000e+02</td>\n",
       "      <td>102.000000</td>\n",
       "    </tr>\n",
       "    <tr>\n",
       "      <th>mean</th>\n",
       "      <td>2017.500000</td>\n",
       "      <td>3.627670e+07</td>\n",
       "      <td>3.492469e+06</td>\n",
       "      <td>12.994809</td>\n",
       "    </tr>\n",
       "    <tr>\n",
       "      <th>std</th>\n",
       "      <td>1.716259</td>\n",
       "      <td>3.872792e+07</td>\n",
       "      <td>4.019123e+06</td>\n",
       "      <td>10.884849</td>\n",
       "    </tr>\n",
       "    <tr>\n",
       "      <th>min</th>\n",
       "      <td>2015.000000</td>\n",
       "      <td>1.443049e+06</td>\n",
       "      <td>1.897330e+05</td>\n",
       "      <td>0.699145</td>\n",
       "    </tr>\n",
       "    <tr>\n",
       "      <th>25%</th>\n",
       "      <td>2016.000000</td>\n",
       "      <td>4.588380e+06</td>\n",
       "      <td>3.513094e+05</td>\n",
       "      <td>4.981127</td>\n",
       "    </tr>\n",
       "    <tr>\n",
       "      <th>50%</th>\n",
       "      <td>2017.500000</td>\n",
       "      <td>2.189037e+07</td>\n",
       "      <td>6.422155e+05</td>\n",
       "      <td>9.699525</td>\n",
       "    </tr>\n",
       "    <tr>\n",
       "      <th>75%</th>\n",
       "      <td>2019.000000</td>\n",
       "      <td>5.220775e+07</td>\n",
       "      <td>5.023958e+06</td>\n",
       "      <td>20.788498</td>\n",
       "    </tr>\n",
       "    <tr>\n",
       "      <th>max</th>\n",
       "      <td>2020.000000</td>\n",
       "      <td>1.597312e+08</td>\n",
       "      <td>1.303831e+07</td>\n",
       "      <td>41.435878</td>\n",
       "    </tr>\n",
       "  </tbody>\n",
       "</table>\n",
       "</div>"
      ],
      "text/plain": [
       "                년도       온실가스배출량       온실가스흡수량     온실가스중립도\n",
       "count   102.000000  1.020000e+02  1.020000e+02  102.000000\n",
       "mean   2017.500000  3.627670e+07  3.492469e+06   12.994809\n",
       "std       1.716259  3.872792e+07  4.019123e+06   10.884849\n",
       "min    2015.000000  1.443049e+06  1.897330e+05    0.699145\n",
       "25%    2016.000000  4.588380e+06  3.513094e+05    4.981127\n",
       "50%    2017.500000  2.189037e+07  6.422155e+05    9.699525\n",
       "75%    2019.000000  5.220775e+07  5.023958e+06   20.788498\n",
       "max    2020.000000  1.597312e+08  1.303831e+07   41.435878"
      ]
     },
     "execution_count": 50,
     "metadata": {},
     "output_type": "execute_result"
    }
   ],
   "source": [
    "df.describe()"
   ]
  },
  {
   "cell_type": "code",
   "execution_count": 46,
   "metadata": {},
   "outputs": [
    {
     "data": {
      "text/html": [
       "<div>\n",
       "<style scoped>\n",
       "    .dataframe tbody tr th:only-of-type {\n",
       "        vertical-align: middle;\n",
       "    }\n",
       "\n",
       "    .dataframe tbody tr th {\n",
       "        vertical-align: top;\n",
       "    }\n",
       "\n",
       "    .dataframe thead th {\n",
       "        text-align: right;\n",
       "    }\n",
       "</style>\n",
       "<table border=\"1\" class=\"dataframe\">\n",
       "  <thead>\n",
       "    <tr style=\"text-align: right;\">\n",
       "      <th></th>\n",
       "      <th>년도</th>\n",
       "      <th>온실가스배출량</th>\n",
       "      <th>온실가스흡수량</th>\n",
       "      <th>온실가스중립도</th>\n",
       "    </tr>\n",
       "  </thead>\n",
       "  <tbody>\n",
       "    <tr>\n",
       "      <th>0</th>\n",
       "      <td>2015</td>\n",
       "      <td>596456951</td>\n",
       "      <td>58394607</td>\n",
       "      <td>13</td>\n",
       "    </tr>\n",
       "    <tr>\n",
       "      <th>1</th>\n",
       "      <td>2016</td>\n",
       "      <td>604898137</td>\n",
       "      <td>65170598</td>\n",
       "      <td>14</td>\n",
       "    </tr>\n",
       "    <tr>\n",
       "      <th>2</th>\n",
       "      <td>2017</td>\n",
       "      <td>633564151</td>\n",
       "      <td>58396474</td>\n",
       "      <td>13</td>\n",
       "    </tr>\n",
       "    <tr>\n",
       "      <th>3</th>\n",
       "      <td>2018</td>\n",
       "      <td>650697304</td>\n",
       "      <td>58393032</td>\n",
       "      <td>12</td>\n",
       "    </tr>\n",
       "    <tr>\n",
       "      <th>4</th>\n",
       "      <td>2019</td>\n",
       "      <td>626998558</td>\n",
       "      <td>58387421</td>\n",
       "      <td>13</td>\n",
       "    </tr>\n",
       "    <tr>\n",
       "      <th>5</th>\n",
       "      <td>2020</td>\n",
       "      <td>587607910</td>\n",
       "      <td>57489743</td>\n",
       "      <td>14</td>\n",
       "    </tr>\n",
       "  </tbody>\n",
       "</table>\n",
       "</div>"
      ],
      "text/plain": [
       "     년도    온실가스배출량  온실가스흡수량  온실가스중립도\n",
       "0  2015  596456951 58394607       13\n",
       "1  2016  604898137 65170598       14\n",
       "2  2017  633564151 58396474       13\n",
       "3  2018  650697304 58393032       12\n",
       "4  2019  626998558 58387421       13\n",
       "5  2020  587607910 57489743       14"
      ]
     },
     "execution_count": 46,
     "metadata": {},
     "output_type": "execute_result"
    }
   ],
   "source": [
    "sum_df = df.groupby('년도').agg({\n",
    "    '온실가스배출량': 'sum',\n",
    "    '온실가스흡수량': 'sum',\n",
    "    '온실가스중립도': 'mean'  # 중립도는 평균을 계산하는 것이 일반적\n",
    "}).reset_index()\n",
    "\n",
    "# 결과 확인\n",
    "sum_df"
   ]
  },
  {
   "cell_type": "code",
   "execution_count": 44,
   "metadata": {},
   "outputs": [
    {
     "data": {
      "text/html": [
       "<div>\n",
       "<style scoped>\n",
       "    .dataframe tbody tr th:only-of-type {\n",
       "        vertical-align: middle;\n",
       "    }\n",
       "\n",
       "    .dataframe tbody tr th {\n",
       "        vertical-align: top;\n",
       "    }\n",
       "\n",
       "    .dataframe thead th {\n",
       "        text-align: right;\n",
       "    }\n",
       "</style>\n",
       "<table border=\"1\" class=\"dataframe\">\n",
       "  <thead>\n",
       "    <tr style=\"text-align: right;\">\n",
       "      <th></th>\n",
       "      <th>년도</th>\n",
       "      <th>온실가스배출량</th>\n",
       "      <th>온실가스흡수량</th>\n",
       "      <th>온실가스중립도</th>\n",
       "    </tr>\n",
       "  </thead>\n",
       "  <tbody>\n",
       "    <tr>\n",
       "      <th>count</th>\n",
       "      <td>6</td>\n",
       "      <td>6</td>\n",
       "      <td>6</td>\n",
       "      <td>6</td>\n",
       "    </tr>\n",
       "    <tr>\n",
       "      <th>mean</th>\n",
       "      <td>2018</td>\n",
       "      <td>616703835</td>\n",
       "      <td>59371979</td>\n",
       "      <td>13</td>\n",
       "    </tr>\n",
       "    <tr>\n",
       "      <th>std</th>\n",
       "      <td>2</td>\n",
       "      <td>24255685</td>\n",
       "      <td>2863612</td>\n",
       "      <td>1</td>\n",
       "    </tr>\n",
       "    <tr>\n",
       "      <th>min</th>\n",
       "      <td>2015</td>\n",
       "      <td>587607910</td>\n",
       "      <td>57489743</td>\n",
       "      <td>12</td>\n",
       "    </tr>\n",
       "    <tr>\n",
       "      <th>25%</th>\n",
       "      <td>2016</td>\n",
       "      <td>598567248</td>\n",
       "      <td>58388824</td>\n",
       "      <td>13</td>\n",
       "    </tr>\n",
       "    <tr>\n",
       "      <th>50%</th>\n",
       "      <td>2018</td>\n",
       "      <td>615948348</td>\n",
       "      <td>58393819</td>\n",
       "      <td>13</td>\n",
       "    </tr>\n",
       "    <tr>\n",
       "      <th>75%</th>\n",
       "      <td>2019</td>\n",
       "      <td>631922753</td>\n",
       "      <td>58396007</td>\n",
       "      <td>14</td>\n",
       "    </tr>\n",
       "    <tr>\n",
       "      <th>max</th>\n",
       "      <td>2020</td>\n",
       "      <td>650697304</td>\n",
       "      <td>65170598</td>\n",
       "      <td>14</td>\n",
       "    </tr>\n",
       "  </tbody>\n",
       "</table>\n",
       "</div>"
      ],
      "text/plain": [
       "        년도   온실가스배출량  온실가스흡수량  온실가스중립도\n",
       "count    6         6        6        6\n",
       "mean  2018 616703835 59371979       13\n",
       "std      2  24255685  2863612        1\n",
       "min   2015 587607910 57489743       12\n",
       "25%   2016 598567248 58388824       13\n",
       "50%   2018 615948348 58393819       13\n",
       "75%   2019 631922753 58396007       14\n",
       "max   2020 650697304 65170598       14"
      ]
     },
     "execution_count": 44,
     "metadata": {},
     "output_type": "execute_result"
    }
   ],
   "source": [
    "sum_df.describe()"
   ]
  },
  {
   "cell_type": "code",
   "execution_count": 38,
   "metadata": {},
   "outputs": [
    {
     "name": "stdout",
     "output_type": "stream",
     "text": [
      "         시도명    년도  배출량_전년대비  흡수량_전년대비  중립도_전년대비\n",
      "0        강원도  2015       NaN       NaN       NaN\n",
      "6        경기도  2015       NaN       NaN       NaN\n",
      "12      경상남도  2015       NaN       NaN       NaN\n",
      "18      경상북도  2015       NaN       NaN       NaN\n",
      "24     광주광역시  2015       NaN       NaN       NaN\n",
      "..       ...   ...       ...       ...       ...\n",
      "89   제주특별자치도  2020       -12        -2        12\n",
      "83      전라북도  2020        -9        -1         9\n",
      "77      전라남도  2020        -5        -2         3\n",
      "71     인천광역시  2020        -7        -3         4\n",
      "101     충청북도  2020        -2        -1         1\n",
      "\n",
      "[102 rows x 5 columns]\n"
     ]
    }
   ],
   "source": [
    "df.sort_values(by=['년도'], inplace=True)\n",
    "\n",
    "df['배출량_전년대비'] = df.groupby('시도명')['온실가스배출량'].pct_change() * 100\n",
    "df['흡수량_전년대비'] = df.groupby('시도명')['온실가스흡수량'].pct_change() * 100\n",
    "df['중립도_전년대비'] = df.groupby('시도명')['온실가스중립도'].pct_change() * 100\n",
    "\n",
    "\n",
    "print(df[['시도명', '년도', '배출량_전년대비', '흡수량_전년대비', '중립도_전년대비']])"
   ]
  },
  {
   "cell_type": "code",
   "execution_count": 56,
   "metadata": {},
   "outputs": [
    {
     "data": {
      "image/png": "[encoded data removed]",
      "text/plain": [
       "<Figure size 640x480 with 1 Axes>"
      ]
     },
     "metadata": {},
     "output_type": "display_data"
    }
   ],
   "source": [
    "title_df = df['온실가스중립도'].apply(float)\n",
    "plt.hist(title_df, bins = 100)\n",
    "plt.yscale('log')\n",
    "plt.show()"
   ]
  },
  {
   "cell_type": "code",
   "execution_count": 59,
   "metadata": {},
   "outputs": [
    {
     "data": {
      "image/png": "[encoded data removed]",
      "text/plain": [
       "<Figure size 1000x500 with 1 Axes>"
      ]
     },
     "metadata": {},
     "output_type": "display_data"
    }
   ],
   "source": [
    "fig, ax = plt.subplots(figsize=(10, 5))\n",
    "\n",
    "# 막대 그래프\n",
    "ax.bar(sum_df['년도'], sum_df['온실가스배출량'], label='배출량')\n",
    "ax.bar(sum_df['년도'], sum_df['온실가스흡수량'], label='흡수량')\n",
    "\n",
    "# 라벨 및 제목 설정\n",
    "ax.set_title('연도별 온실가스 배출 및 흡수량 추이')\n",
    "\n",
    "# 범례 및 격자 추가\n",
    "ax.legend()\n",
    "ax.grid(True)\n",
    "\n",
    "# 그래프 출력\n",
    "plt.show()"
   ]
  },
  {
   "cell_type": "code",
   "execution_count": 75,
   "metadata": {},
   "outputs": [
    {
     "data": {
      "image/png": "[encoded data removed]",
      "text/plain": [
       "<Figure size 1000x500 with 1 Axes>"
      ]
     },
     "metadata": {},
     "output_type": "display_data"
    }
   ],
   "source": [
    "fig, ax = plt.subplots(figsize=(10, 5))\n",
    "\n",
    "# 막대 그래프\n",
    "bars1 = ax.bar(sum_df['년도'], sum_df['온실가스배출량'], label='배출량')\n",
    "bars2 = ax.bar(sum_df['년도'], sum_df['온실가스흡수량'], label='흡수량')\n",
    "\n",
    "# 데이터 값을 막대 중앙에 표시\n",
    "for bar in bars1:\n",
    "    yval = bar.get_height()\n",
    "    ax.text(bar.get_x() + bar.get_width()/2, yval/2, f'{yval:,.0f}', ha='center', va='bottom')\n",
    "\n",
    "for bar in bars2:\n",
    "    yval = bar.get_height()\n",
    "    ax.text(bar.get_x() + bar.get_width()/2, yval/2, f'{yval:,.0f}', ha='center', va='center')\n",
    "\n",
    "# 라벨 및 제목 설정\n",
    "ax.set_xlabel('년도')\n",
    "ax.set_ylabel('톤')\n",
    "ax.set_title('연도별 온실가스 배출 및 흡수량 추이')\n",
    "\n",
    "# 범례 및 격자 추가\n",
    "ax.legend()\n",
    "# 그래프 출력\n",
    "plt.show()"
   ]
  },
  {
   "cell_type": "code",
   "execution_count": 50,
   "metadata": {},
   "outputs": [
    {
     "name": "stdout",
     "output_type": "stream",
     "text": [
      "     년도  배출량 변화율  흡수량 변화율\n",
      "0  2015      NaN      NaN\n",
      "1  2016        1       12\n",
      "2  2017        5      -10\n",
      "3  2018        3       -0\n",
      "4  2019       -4       -0\n",
      "5  2020       -6       -2\n"
     ]
    }
   ],
   "source": [
    "# 변화율 계산\n",
    "sum_df['배출량 변화율'] = sum_df['온실가스배출량'].pct_change() * 100\n",
    "sum_df['흡수량 변화율'] = sum_df['온실가스흡수량'].pct_change() * 100\n",
    "\n",
    "print(sum_df[['년도', '배출량 변화율', '흡수량 변화율']])\n"
   ]
  }
 ],
 "metadata": {
  "kernelspec": {
   "display_name": "dav",
   "language": "python",
   "name": "python3"
  },
  "language_info": {
   "codemirror_mode": {
    "name": "ipython",
    "version": 3
   },
   "file_extension": ".py",
   "mimetype": "text/x-python",
   "name": "python",
   "nbconvert_exporter": "python",
   "pygments_lexer": "ipython3",
   "version": "3.12.4"
  }
 },
 "nbformat": 4,
 "nbformat_minor": 2
}
